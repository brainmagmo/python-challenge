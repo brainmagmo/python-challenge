{
 "cells": [
  {
   "cell_type": "code",
   "execution_count": 9,
   "metadata": {},
   "outputs": [],
   "source": [
    "#os to interact with system, csv because we can't use pandas yet\n",
    "import os\n",
    "import csv"
   ]
  },
  {
   "cell_type": "code",
   "execution_count": 10,
   "metadata": {},
   "outputs": [],
   "source": [
    "# takes a list, lst, and an item that might be in the list, item, \n",
    "# returns the index of the item in the list\n",
    "# returns -1 if the item is not in the list\n",
    "# O(2n)\n",
    "def fuzzy_index(lst, item):\n",
    "    if lst.count(item) == 0:\n",
    "        return -1\n",
    "    else:\n",
    "        return lst.index(item)\n",
    "  "
   ]
  },
  {
   "cell_type": "code",
   "execution_count": 11,
   "metadata": {},
   "outputs": [],
   "source": [
    "#* You will be give a set of poll data called [election_data.csv](PyPoll/Resources/election_data.csv). \n",
    "data_path = os.path.join('Resources', 'election_data.csv')\n",
    "#  The dataset is composed of three columns: `Voter ID`, `County`, and `Candidate`. \n",
    "\n",
    "#  Your task is to create a Python script that analyzes the votes and calculates each of the following:\n",
    "#\n",
    "#  * The total number of votes cast\n",
    "total_v = 0\n",
    "#  * A complete list of candidates who received votes\n",
    "# candidates\n",
    "candid_s = []\n",
    "#  * The percentage of votes each candidate won\n",
    "#  vbc/total\n",
    "#  * The total number of votes each candidate won\n",
    "#v otes by candidate\n",
    "votes_bc = []\n",
    "#  * The winner of the election based on popular vote.\n",
    "winner = ''\n"
   ]
  },
  {
   "cell_type": "code",
   "execution_count": 12,
   "metadata": {},
   "outputs": [],
   "source": [
    "#TODO: Read the poll data\n",
    "data_path = os.path.join('Resources', 'election_data.csv')\n",
    "with open(data_path) as data_file:\n",
    "    data_reader = csv.reader(data_file, delimiter=',')\n",
    "    data_header = next(data_reader)\n",
    "    #print(data_header)\n",
    "    for row in data_reader:\n",
    "        #note that a vote is cast\n",
    "        total_v += 1\n",
    "        \n",
    "        #grab who was voted for\n",
    "        cand = row[2]\n",
    "        #see if we have listed them as a candidate\n",
    "        cindex = fuzzy_index(candid_s,cand)\n",
    "        #if not, add them to the candidate list and note that someone voted for them\n",
    "        if cindex == -1:\n",
    "            candid_s.append(cand)\n",
    "            votes_bc.append(1)\n",
    "        else:\n",
    "            votes_bc[cindex] += 1"
   ]
  },
  {
   "cell_type": "code",
   "execution_count": 13,
   "metadata": {},
   "outputs": [
    {
     "name": "stdout",
     "output_type": "stream",
     "text": [
      "Election Results\n",
      "-------------------------\n",
      "Total Votes: 3521001\n",
      "-------------------------\n",
      "Khan: 63.0% (2218231)\n",
      "Correy: 20.0% (704200)\n",
      "Li: 14.0% (492940)\n",
      "O'Tooley: 3.0% (105630)\n",
      "-------------------------\n",
      "Winner: \n",
      "-------------------------\n"
     ]
    }
   ],
   "source": [
    "#* In addition, your final script should both print the analysis to the terminal and export a text file with the results.\n",
    "#* As an example, your analysis should look similar to the one below:\n",
    "#\n",
    "#  ```text\n",
    "lines = [ \"Election Results\",\n",
    "         \"-------------------------\",\n",
    "         \"Total Votes: \" + str(total_v),\n",
    "         \"-------------------------\"\n",
    "]\n",
    "\n",
    "#  Election Results\n",
    "#  -------------------------\n",
    "#  Total Votes: 3521001\n",
    "#  -------------------------\n",
    "#for each candidate in the candidate list\n",
    "for cd in candid_s:\n",
    "    #lookup how many votes they got\n",
    "    cd_v = votes_bc[candid_s.index(cd)]\n",
    "    #calcuate their win%\n",
    "    cd_p = round(100*(cd_v/total_v),3)\n",
    "    #write their results\n",
    "    lines.append(f'{cd}: {cd_p}% ({cd_v})')\n",
    "#  Khan: 63.000% (2218231)\n",
    "#  Correy: 20.000% (704200)\n",
    "#  Li: 14.000% (492940)\n",
    "#  O'Tooley: 3.000% (105630)\n",
    "lines.append('-------------------------')\n",
    "#  -------------------------\n",
    "\n",
    "lines.append(f'Winner: {winner}')\n",
    "#  Winner: Khan\n",
    "\n",
    "lines.append('-------------------------')\n",
    "#  -------------------------\n",
    "#  ```\n",
    "analysis_path = os.path.join(\"analysis\", \"poll_analysis.txt\")\n",
    "with open(analysis_path, 'w') as ap:\n",
    "    apw = csv.writer(ap)\n",
    "    for l in lines:\n",
    "        print(l)\n",
    "        apw.writerow([l])#writerow takes a list. treats a string as a list of chars"
   ]
  },
  {
   "cell_type": "code",
   "execution_count": null,
   "metadata": {},
   "outputs": [],
   "source": [
    "#print(str(fuzzy_index([0,0,0],1)))\n"
   ]
  },
  {
   "cell_type": "code",
   "execution_count": null,
   "metadata": {},
   "outputs": [],
   "source": []
  }
 ],
 "metadata": {
  "kernelspec": {
   "display_name": "Python 3",
   "language": "python",
   "name": "python3"
  },
  "language_info": {
   "codemirror_mode": {
    "name": "ipython",
    "version": 3
   },
   "file_extension": ".py",
   "mimetype": "text/x-python",
   "name": "python",
   "nbconvert_exporter": "python",
   "pygments_lexer": "ipython3",
   "version": "3.7.6"
  }
 },
 "nbformat": 4,
 "nbformat_minor": 4
}
