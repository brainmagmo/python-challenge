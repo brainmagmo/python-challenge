{
 "cells": [
  {
   "cell_type": "code",
   "execution_count": 45,
   "metadata": {},
   "outputs": [],
   "source": [
    "#os to interact with system, csv because we can't use pandas yet\n",
    "import os\n",
    "import csv\n",
    "#in this folder, the path to the data is Resources/budget_data.csv\n",
    "data_path = os.path.join('Resources', 'budget_data.csv')"
   ]
  },
  {
   "cell_type": "code",
   "execution_count": 46,
   "metadata": {},
   "outputs": [],
   "source": [
    "#decalring variables for info wee want to track\n",
    "count = 0\n",
    "running_total = 0\n",
    "months = []\n",
    "max_increase = 0\n",
    "pos_mon = ''\n",
    "max_decrease = 0\n",
    "neg_mon = ''\n",
    "change = 0"
   ]
  },
  {
   "cell_type": "code",
   "execution_count": 47,
   "metadata": {},
   "outputs": [],
   "source": [
    "#with closes autmaticatlly\n",
    "with open(data_path) as data_file:\n",
    "\n",
    "    # open iterator list as data-reader\n",
    "    data_reader = csv.reader(data_file, delimiter=',')\n",
    "\n",
    "    # skim the head\n",
    "    data_header = next(data_reader)\n",
    "    #print(f\"CSV Header: {data_header}\")\n",
    "\n",
    "    for row in data_reader:\n",
    "        #The total number of months included in the dataset\n",
    "\n",
    "        count += 1\n",
    "\n",
    "        if months.count(row[0]) == 0:\n",
    "            months.append(row[0])\n",
    "            \n",
    "        change = int(row[1])\n",
    "        #The net total amount of \"Profit/Losses\" over the entire period\n",
    "        running_total += change\n",
    "        \n",
    "        #The greatest increase in profits (date and amount) over the entire period\n",
    "        if change > max_increase:\n",
    "            max_increase = change\n",
    "            pos_mon = row[0]\n",
    "        \n",
    "        #The greatest decrease in losses (date and amount) over the entire period\n",
    "        if change < max_decrease:\n",
    "            max_decrease = change\n",
    "            neg_mon = row[0]\n"
   ]
  },
  {
   "cell_type": "code",
   "execution_count": 48,
   "metadata": {},
   "outputs": [],
   "source": [
    "avg = int((running_total/count)*100)/100"
   ]
  },
  {
   "cell_type": "code",
   "execution_count": 51,
   "metadata": {},
   "outputs": [
    {
     "name": "stdout",
     "output_type": "stream",
     "text": [
      "Financial Analysis\n",
      "----------------------------\n",
      "Total Months: 86\n",
      "Total: $38382578\n",
      "Average Change: $446309.04\n",
      "Greatest Increase in Profits: Feb-2012 ($1170593)\n",
      "Greatest Decrease in Profits: Sep-2013 ($-1196225)\n"
     ]
    }
   ],
   "source": [
    "#In addition, your final script should both print the analysis to the terminal and export a text file with the results.\n",
    "#make the file\n",
    "analysis_path = os.path.join(\"analysis\", \"bank_analysis.csv\")\n",
    "with open(analysis_path, 'w') as ap:\n",
    "    apw = csv.writer(ap,delimiter=',')\n",
    "    #  Financial Analysis\n",
    "    aa = \"Financial Analysis\"\n",
    "    print(aa)\n",
    "    apw.writerow([aa])\n",
    "    #  ----------------------------\n",
    "    bb = \"----------------------------\"\n",
    "    print(bb)\n",
    "    apw.writerow([bb])\n",
    "    #  Total Months: 86\n",
    "    cc = \"Total Months: \" + str(len(months))\n",
    "    print(cc)\n",
    "    apw.writerow([cc])\n",
    "    #  Total: $38382578\n",
    "    dd = \"Total: $\" + str(running_total)\n",
    "    print(dd)\n",
    "    apw.writerow([dd])\n",
    "    #  Average  Change: $-2315.12\n",
    "    ee = \"Average Change: $\" + str(avg)\n",
    "    print(ee)\n",
    "    apw.writerow([ee])\n",
    "    #  Greatest Increase in Profits: Feb-2012 ($1926159)\n",
    "    ff = \"Greatest Increase in Profits: \" + pos_mon + \" ($\" + str(max_increase) + \")\"\n",
    "    print(ff)\n",
    "    apw.writerow([ff])\n",
    "    #  Greatest Decrease in Profits: Sep-2013 ($-2196167)\n",
    "    gg = \"Greatest Decrease in Profits: \" + neg_mon + \" ($\" + str(max_decrease) + \")\"\n",
    "    apw.writerow([gg])\n",
    "    print(gg)"
   ]
  },
  {
   "cell_type": "code",
   "execution_count": null,
   "metadata": {},
   "outputs": [],
   "source": [
    "##The total number of months included in the dataset\n",
    "#print(len(months))\n",
    "#print(str(count))\n",
    "#  #The net total amount of \"Profit/Losses\" over the entire period\n",
    "#print(str(running_total))\n",
    "  ##The average of the changes in \"Profit/Losses\" over the entire period\n",
    "\n",
    "#print(str(avg))\n",
    "  ##The greatest increase in profits (date and amount) over the entire period\n",
    "#print(max_increase)\n",
    " # #The greatest decrease in losses (date and amount) over the entire period\n",
    "#print(max_decrease)\n",
    "    \n",
    "#if len(months) != count:\n",
    "#    print(\"Duplicate month data in source code\")"
   ]
  }
 ],
 "metadata": {
  "kernelspec": {
   "display_name": "Python 3",
   "language": "python",
   "name": "python3"
  },
  "language_info": {
   "codemirror_mode": {
    "name": "ipython",
    "version": 3
   },
   "file_extension": ".py",
   "mimetype": "text/x-python",
   "name": "python",
   "nbconvert_exporter": "python",
   "pygments_lexer": "ipython3",
   "version": "3.7.6"
  }
 },
 "nbformat": 4,
 "nbformat_minor": 4
}
